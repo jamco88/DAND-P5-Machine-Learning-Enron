{
 "cells": [
  {
   "cell_type": "markdown",
   "metadata": {},
   "source": [
    "prm_grid = dict(clf__criterion=[\"gini\", \"entropy\"],\n",
    "                clf__max_features=[\"auto\", \"log2\", None],\n",
    "                clf__max_depth = [4, 8, 12,],\n",
    "                clf__class_weight = [\"balanced\", None],\n",
    "                clf__min_samples_split = [2, 4, 6],\n",
    "                clf__splitter = [\"best\", \"random\"])"
   ]
  },
  {
   "cell_type": "code",
   "execution_count": null,
   "metadata": {
    "collapsed": true
   },
   "outputs": [],
   "source": [
    "with n_splits=10 done in  190.175319013857\n",
    "Best F1 Score:\n",
    "0.277824948677\n",
    "Best parameters:\n",
    "\tclf__class_weight: 'balanced'\n",
    "\tclf__criterion: 'gini'\n",
    "\tclf__max_depth: 2\n",
    "\tclf__max_features: None\n",
    "\tclf__min_samples_split: 2\n",
    "\tclf__splitter: 'best'\n",
    "        \n",
    "Tester Classification Report\n",
    "Pipeline(steps=[('MMS', MinMaxScaler(copy=True, feature_range=(0, 1))), \n",
    "                ('SKB', SelectKBest(k=6, score_func=<function f_classif at 0x000000000A102978>)),\n",
    "                ('clf', DecisionTreeClassifier(class_weight='balanced', criterion='gini', max_depth=2,\n",
    "            max_features=None, max_leaf_nodes=None,\n",
    "            min_impurity_split=1e-07, min_samples_leaf=1,\n",
    "            min_samples_split=2, min_weight_fraction_leaf=0.0,\n",
    "            presort=False, random_state=42, splitter='best'))])\n",
    "\tAccuracy: 0.67340\tPrecision: 0.21706\tRecall: 0.55600\tF1: 0.31223\tF2: 0.42368\n",
    "\tTotal predictions: 15000\tTrue positives: 1112\tFalse positives: 4011\tFalse negatives:\n",
    "                    888\tTrue negatives: 8989        \n",
    "        \n",
    "        "
   ]
  },
  {
   "cell_type": "markdown",
   "metadata": {},
   "source": [
    "#Test Grid goes here\n",
    "prm_grid = dict(clf__criterion=[\"gini\", \"entropy\"],\n",
    "                clf__max_features=[\"auto\", \"log2\", None],\n",
    "                clf__max_depth = [1, 2,4, 6, 8, 10],\n",
    "                clf__class_weight = [\"balanced\", None],\n",
    "                clf__min_samples_split = [ 2, 3, 4, 6, 8, 10],\n",
    "                clf__splitter = [\"best\", \"random\"])\n"
   ]
  },
  {
   "cell_type": "code",
   "execution_count": null,
   "metadata": {
    "collapsed": true
   },
   "outputs": [],
   "source": [
    "with n_splits=10 done in  758.6832611006673\n",
    "Best F1 Score:\n",
    "0.278005502971\n",
    "Best parameters:\n",
    "\tclf__class_weight: 'balanced'\n",
    "\tclf__criterion: 'gini'\n",
    "\tclf__max_depth: 1\n",
    "\tclf__max_features: None\n",
    "\tclf__min_samples_split: 2\n",
    "\tclf__splitter: 'best'\n"
   ]
  },
  {
   "cell_type": "code",
   "execution_count": null,
   "metadata": {
    "collapsed": true
   },
   "outputs": [],
   "source": [
    "balanced gini none and best across the board"
   ]
  },
  {
   "cell_type": "markdown",
   "metadata": {},
   "source": [
    "#Test Grid goes here\n",
    "prm_grid = dict(clf__criterion=[\"gini\"],\n",
    "                clf__max_features=[None],\n",
    "                clf__max_depth = [1, 2, 6, 8, 10, 15, 25, 30],\n",
    "                clf__class_weight = [\"balanced\"],\n",
    "                clf__min_samples_split = [2, 3, 6, 8, 15, 25, 30],\n",
    "                clf__splitter = [\"best\"])"
   ]
  },
  {
   "cell_type": "code",
   "execution_count": null,
   "metadata": {
    "collapsed": true
   },
   "outputs": [],
   "source": [
    "with n_splits=10 done in  49.57602219947876\n",
    "Best F1 Score:\n",
    "0.2869568376\n",
    "Best parameters:\n",
    "\tclf__class_weight: 'balanced'\n",
    "\tclf__criterion: 'gini'\n",
    "\tclf__max_depth: 2\n",
    "\tclf__max_features: None\n",
    "\tclf__min_samples_split: 25\n",
    "\tclf__splitter: 'best'\n"
   ]
  },
  {
   "cell_type": "markdown",
   "metadata": {},
   "source": [
    "#Test Grid goes here\n",
    "prm_grid = dict(clf__criterion=[\"gini\"],\n",
    "                clf__max_features=[None],\n",
    "                clf__max_depth = [1, 2, 6,  15, 25, 30, 35, 40],\n",
    "                clf__class_weight = [\"balanced\"],\n",
    "                clf__min_samples_split = [2, 3,  15, 25, 30, 35, 40],\n",
    "                clf__splitter = [\"best\"])"
   ]
  },
  {
   "cell_type": "code",
   "execution_count": null,
   "metadata": {
    "collapsed": true
   },
   "outputs": [],
   "source": [
    "with n_splits=10 done in  49.48998777283714\n",
    "Best F1 Score:\n",
    "0.291085311097\n",
    "Best parameters:\n",
    "\tclf__class_weight: 'balanced'\n",
    "\tclf__criterion: 'gini'\n",
    "\tclf__max_depth: 2\n",
    "\tclf__max_features: None\n",
    "\tclf__min_samples_split: 40\n",
    "\tclf__splitter: 'best'"
   ]
  },
  {
   "cell_type": "markdown",
   "metadata": {},
   "source": [
    "#Test Grid goes here\n",
    "prm_grid = dict(clf__criterion=[\"gini\"],\n",
    "                clf__max_features=[None],\n",
    "                clf__max_depth = [1, 2, 6,  15, ],\n",
    "                clf__class_weight = [\"balanced\"],\n",
    "                clf__min_samples_split = [2, 3,  15, 40,60,80,100],\n",
    "                clf__splitter = [\"best\"])"
   ]
  },
  {
   "cell_type": "code",
   "execution_count": null,
   "metadata": {
    "collapsed": true
   },
   "outputs": [],
   "source": [
    "with n_splits=10 done in  24.708304817725093\n",
    "Best F1 Score:\n",
    "0.291085311097\n",
    "Best parameters:\n",
    "\tclf__class_weight: 'balanced'\n",
    "\tclf__criterion: 'gini'\n",
    "\tclf__max_depth: 2\n",
    "\tclf__max_features: None\n",
    "\tclf__min_samples_split: 40\n",
    "\tclf__splitter: 'best'"
   ]
  },
  {
   "cell_type": "markdown",
   "metadata": {},
   "source": [
    "#Test Grid goes here\n",
    "prm_grid = dict(clf__criterion=[\"gini\"],\n",
    "                clf__max_features=[None],\n",
    "                clf__max_depth = [1, 2,3, 4 ],\n",
    "                clf__class_weight = [\"balanced\"],\n",
    "                clf__min_samples_split = [25,30,35,38,40,42,45,47],\n",
    "                clf__splitter = [\"best\"])\n"
   ]
  },
  {
   "cell_type": "code",
   "execution_count": null,
   "metadata": {
    "collapsed": true
   },
   "outputs": [],
   "source": [
    "with n_splits=10 done in  28.35350516127346\n",
    "Best F1 Score:\n",
    "0.292068176186\n",
    "Best parameters:\n",
    "\tclf__class_weight: 'balanced'\n",
    "\tclf__criterion: 'gini'\n",
    "\tclf__max_depth: 2\n",
    "\tclf__max_features: None\n",
    "\tclf__min_samples_split: 47\n",
    "\tclf__splitter: 'best'"
   ]
  },
  {
   "cell_type": "markdown",
   "metadata": {},
   "source": [
    "#Test Grid goes here\n",
    "prm_grid = dict(clf__criterion=[\"gini\"],\n",
    "                clf__max_features=[None],\n",
    "                clf__max_depth = [1, 2,3, 4 ],\n",
    "                clf__class_weight = [\"balanced\"],\n",
    "                clf__min_samples_split = [40,42,45,47, 50, 53, 56, 60, 63],\n",
    "                clf__splitter = [\"best\"])\n"
   ]
  },
  {
   "cell_type": "code",
   "execution_count": null,
   "metadata": {
    "collapsed": true
   },
   "outputs": [],
   "source": [
    "with n_splits=10 done in  31.73413903076198\n",
    "Best F1 Score:\n",
    "0.29336930518\n",
    "Best parameters:\n",
    "\tclf__class_weight: 'balanced'\n",
    "\tclf__criterion: 'gini'\n",
    "\tclf__max_depth: 3\n",
    "\tclf__max_features: None\n",
    "\tclf__min_samples_split: 50\n",
    "\tclf__splitter: 'best'\n"
   ]
  },
  {
   "cell_type": "markdown",
   "metadata": {},
   "source": [
    "#Test Grid goes here\n",
    "prm_grid = dict(clf__criterion=[\"gini\", \"entropy\"],\n",
    "                clf__max_features=[\"auto\", \"log2\", None],\n",
    "                clf__max_depth = [3],\n",
    "                clf__class_weight = [\"balanced\", None],\n",
    "                clf__min_samples_split = [50],\n",
    "                clf__splitter = [\"best\", \"random\"])"
   ]
  },
  {
   "cell_type": "code",
   "execution_count": null,
   "metadata": {
    "collapsed": true
   },
   "outputs": [],
   "source": [
    "with n_splits=10 done in  21.165614631508106\n",
    "Best F1 Score:\n",
    "0.29336930518\n",
    "Best parameters:\n",
    "\tclf__class_weight: 'balanced'\n",
    "\tclf__criterion: 'gini'\n",
    "\tclf__max_depth: 3\n",
    "\tclf__max_features: None\n",
    "\tclf__min_samples_split: 50\n",
    "\tclf__splitter: 'best'\n",
    "#meh no change"
   ]
  },
  {
   "cell_type": "markdown",
   "metadata": {},
   "source": [
    "Decision Tree analysis: very tough to get it over 0.3. Lets try again with randomforestclassifier.\n"
   ]
  },
  {
   "cell_type": "code",
   "execution_count": null,
   "metadata": {
    "collapsed": true
   },
   "outputs": [],
   "source": [
    "#this one got over 0.4 when I combined it with featureunion\n",
    "prm_grid = dict(clf__criterion=[\"gini\", \"entropy\"],\n",
    "                clf__max_features=[\"auto\", \"log2\", None],\n",
    "                clf__max_depth = [5, 10, 15],\n",
    "                clf__class_weight = [\"balanced\", None],\n",
    "                clf__min_samples_split = [5, 10, 15],\n",
    "                clf__n_estimators = [5, 10, 15]\n",
    "                )    "
   ]
  },
  {
   "cell_type": "code",
   "execution_count": null,
   "metadata": {
    "collapsed": true
   },
   "outputs": [],
   "source": [
    "with n_splits=10 done in  1644.122068358256\n",
    "Best F1 Score:\n",
    "0.304262072035\n",
    "Best parameters:\n",
    "\tclf__class_weight: 'balanced'\n",
    "\tclf__criterion: 'gini'\n",
    "\tclf__max_depth: 10\n",
    "\tclf__max_features: None\n",
    "\tclf__min_samples_split: 15\n",
    "\tclf__n_estimators: 10\n"
   ]
  },
  {
   "cell_type": "code",
   "execution_count": null,
   "metadata": {
    "collapsed": true
   },
   "outputs": [],
   "source": [
    "Tester Classification Report\n",
    "Pipeline(steps=[('MMS', MinMaxScaler(copy=True, feature_range=(0, 1))), ('SKB', SelectKBest(k=6, score_func=<function f_classif at 0x000000000A102978>)), ('clf', RandomForestClassifier(bootstrap=True, class_weight='balanced',\n",
    "            criterion='gini', max_depth=10, max_features=None,\n",
    "            max_leaf...stimators=10, n_jobs=1,\n",
    "            oob_score=False, random_state=42, verbose=0, warm_start=False))])\n",
    "\tAccuracy: 0.78727\tPrecision: 0.27621\tRecall: 0.36750\tF1: 0.31538\tF2: 0.34471\n",
    "\tTotal predictions: 15000\tTrue positives:  735\tFalse positives: 1926\tFalse negatives: 1265\tTrue negatives: 11074\n",
    "\n"
   ]
  },
  {
   "cell_type": "code",
   "execution_count": 1,
   "metadata": {
    "collapsed": false
   },
   "outputs": [
    {
     "ename": "SyntaxError",
     "evalue": "invalid syntax (<ipython-input-1-a6d5a8800ca9>, line 1)",
     "output_type": "error",
     "traceback": [
      "\u001b[0;36m  File \u001b[0;32m\"<ipython-input-1-a6d5a8800ca9>\"\u001b[0;36m, line \u001b[0;32m1\u001b[0m\n\u001b[0;31m    way too long, not much of an improvement. Short on precision.\u001b[0m\n\u001b[0m          ^\u001b[0m\n\u001b[0;31mSyntaxError\u001b[0m\u001b[0;31m:\u001b[0m invalid syntax\n"
     ]
    }
   ],
   "source": [
    "way too long, not much of an improvement. Short on precision.\n",
    "\n",
    "Lets look at the full grid before deleting.\n",
    "\n",
    "ALSO lets drop the number of cvsss to 10\n"
   ]
  },
  {
   "cell_type": "code",
   "execution_count": null,
   "metadata": {
    "collapsed": true,
    "scrolled": true
   },
   "outputs": [],
   "source": [
    ">>> from pprint import pprint\n",
    ">>> pprint(clf.grid_scores_)"
   ]
  },
  {
   "cell_type": "code",
   "execution_count": null,
   "metadata": {
    "collapsed": true
   },
   "outputs": [],
   "source": []
  },
  {
   "cell_type": "markdown",
   "metadata": {},
   "source": [
    "#cut down version of the above.\n",
    "prm_grid = dict(clf__criterion=[\"gini\", \"entropy\"],\n",
    "                clf__max_features=[\"auto\", \"log2\", None],\n",
    "                clf__max_depth = [5,15],\n",
    "                clf__class_weight = [\"balanced\", None],\n",
    "                clf__min_samples_split = [5, 15],\n",
    "                clf__n_estimators = [5, 15]\n",
    "                )    "
   ]
  },
  {
   "cell_type": "code",
   "execution_count": null,
   "metadata": {
    "collapsed": true
   },
   "outputs": [],
   "source": [
    "with n_splits=10 done in  48.06178553704831\n",
    "Best F1 Score:\n",
    "0.317185053509\n",
    "Best parameters:\n",
    "\tclf__class_weight: 'balanced'\n",
    "\tclf__criterion: 'gini'\n",
    "\tclf__max_depth: 5\n",
    "\tclf__max_features: None\n",
    "\tclf__min_samples_split: 15\n",
    "\tclf__n_estimators: 5"
   ]
  },
  {
   "cell_type": "markdown",
   "metadata": {},
   "source": [
    "now we also have a lot more stuff to analyse in the full report.\n",
    "\n",
    "unfortunately I couldn't find the documentation for CV_results_ so for now we'll have to shelve that Idea. It's a shame\n",
    "\n",
    "back to the old fashioned way!\n",
    "\n",
    "Gonna stick Balanced Gini None in as constants for now. Everything else will be numbered 1-30.\n"
   ]
  },
  {
   "cell_type": "markdown",
   "metadata": {},
   "source": [
    "prm_grid = dict(clf__criterion=[\"gini\"],\n",
    "                clf__max_features=[None],\n",
    "                clf__max_depth = [5,10, 15, 20, 25],\n",
    "                clf__class_weight = [\"balanced\"],\n",
    "                clf__min_samples_split = [5,10, 15, 20, 25],\n",
    "                clf__n_estimators = [5,10, 15, 20, 25]\n",
    "                )   "
   ]
  },
  {
   "cell_type": "code",
   "execution_count": null,
   "metadata": {
    "collapsed": true
   },
   "outputs": [],
   "source": [
    "with n_splits=10 done in  86.79844889528522\n",
    "Best F1 Score:\n",
    "0.339348951702\n",
    "Best parameters:\n",
    "\tclf__class_weight: 'balanced'\n",
    "\tclf__criterion: 'gini'\n",
    "\tclf__max_depth: 5\n",
    "\tclf__max_features: None\n",
    "\tclf__min_samples_split: 20\n",
    "\tclf__n_estimators: 5\n",
    "\n",
    " Tester Classification Report\n",
    "Pipeline(steps=[('MMS', MinMaxScaler(copy=True, feature_range=(0, 1))), ('SKB', SelectKBest(k=6, score_func=<function f_classif at 0x000000000A102978>)), ('clf', RandomForestClassifier(bootstrap=True, class_weight='balanced',\n",
    "            criterion='gini', max_depth=5, max_features=None,\n",
    "            max_leaf_...estimators=5, n_jobs=1,\n",
    "            oob_score=False, random_state=42, verbose=0, warm_start=False))])\n",
    "\tAccuracy: 0.76647\tPrecision: 0.26827\tRecall: 0.43500\tF1: 0.33187\tF2: 0.38691\n",
    "\tTotal predictions: 15000\tTrue positives:  870\tFalse positives: 2373\tFalse negatives: 1130\tTrue negatives: 10627\n",
    "      \n",
    "        \n",
    "        "
   ]
  },
  {
   "cell_type": "markdown",
   "metadata": {},
   "source": [
    "prm_grid = dict(clf__criterion=[\"gini\"],\n",
    "                clf__max_features=[None],\n",
    "                clf__max_depth = [2, 10, 20, 30, 40],\n",
    "                clf__class_weight = [\"balanced\"],\n",
    "                clf__min_samples_split = [2, 10, 20, 30, 40],\n",
    "                clf__n_estimators = [2, 10, 20, 30, 40]\n",
    "                )     \n",
    "\n",
    "\n",
    "\n"
   ]
  },
  {
   "cell_type": "code",
   "execution_count": null,
   "metadata": {
    "collapsed": true
   },
   "outputs": [],
   "source": [
    "with n_splits=10 done in  113.48344599318989\n",
    "Best F1 Score:\n",
    "0.311269472701\n",
    "Best parameters:\n",
    "\tclf__class_weight: 'balanced'\n",
    "\tclf__criterion: 'gini'\n",
    "\tclf__max_depth: 10\n",
    "\tclf__max_features: None\n",
    "\tclf__min_samples_split: 30\n",
    "\tclf__n_estimators: 2\n"
   ]
  },
  {
   "cell_type": "markdown",
   "metadata": {},
   "source": [
    "prm_grid = dict(clf__criterion=[\"gini\"],\n",
    "                clf__max_features=[None],\n",
    "                clf__max_depth = [6,7,8,10,12],\n",
    "                clf__class_weight = [\"balanced\"],\n",
    "                clf__min_samples_split = [24,28,30,32,34],\n",
    "                clf__n_estimators = [1,2,3,4]\n",
    "                )    "
   ]
  },
  {
   "cell_type": "code",
   "execution_count": null,
   "metadata": {
    "collapsed": true
   },
   "outputs": [],
   "source": [
    "with n_splits=10 done in  20.026718764116595\n",
    "Best F1 Score:\n",
    "0.340212842713\n",
    "Best parameters:\n",
    "\tclf__class_weight: 'balanced'\n",
    "\tclf__criterion: 'gini'\n",
    "\tclf__max_depth: 6\n",
    "\tclf__max_features: None\n",
    "\tclf__min_samples_split: 32\n",
    "\tclf__n_estimators: 4\n",
    "        \n",
    "Tester Classification Report\n",
    "Pipeline(steps=[('MMS', MinMaxScaler(copy=True, feature_range=(0, 1))), ('SKB', SelectKBest(k=6, score_func=<function f_classif at 0x000000000A102978>)), ('clf', RandomForestClassifier(bootstrap=True, class_weight='balanced',\n",
    "            criterion='gini', max_depth=6, max_features=None,\n",
    "            max_leaf_...estimators=4, n_jobs=1,\n",
    "            oob_score=False, random_state=42, verbose=0, warm_start=False))])\n",
    "\tAccuracy: 0.73433\tPrecision: 0.25656\tRecall: 0.52300\tF1: 0.34425\tF2: 0.43305\n",
    "\tTotal predictions: 15000\tTrue positives: 1046\tFalse positives: 3031\tFalse negatives:  954\tTrue negatives: 9969\n",
    "\n",
    "        \n"
   ]
  },
  {
   "cell_type": "markdown",
   "metadata": {},
   "source": [
    "prm_grid = dict(clf__criterion=[\"gini\"],\n",
    "                clf__max_features=[None],\n",
    "                clf__max_depth = [4,5,6],\n",
    "                clf__class_weight = [\"balanced\"],\n",
    "                clf__min_samples_split = [31,32,33],\n",
    "                clf__n_estimators = [4,5,6]\n",
    "                )    "
   ]
  },
  {
   "cell_type": "code",
   "execution_count": null,
   "metadata": {
    "collapsed": true
   },
   "outputs": [],
   "source": [
    "with n_splits=10 done in  8.20609297594092\n",
    "Best F1 Score:\n",
    "0.340212842713\n",
    "Best parameters:\n",
    "\tclf__class_weight: 'balanced'\n",
    "\tclf__criterion: 'gini'\n",
    "\tclf__max_depth: 4\n",
    "\tclf__max_features: None\n",
    "\tclf__min_samples_split: 32\n",
    "\tclf__n_estimators: 4\n"
   ]
  },
  {
   "cell_type": "markdown",
   "metadata": {},
   "source": [
    "prm_grid = dict(clf__criterion=[\"gini\", \"entropy\"],\n",
    "                clf__max_features=[\"auto\", \"log2\", None],\n",
    "                clf__max_depth = [4],\n",
    "                clf__class_weight = [\"balanced\", None],\n",
    "                clf__min_samples_split = [32],\n",
    "                clf__n_estimators = [4]\n",
    "                ) "
   ]
  },
  {
   "cell_type": "code",
   "execution_count": null,
   "metadata": {
    "collapsed": true
   },
   "outputs": [],
   "source": [
    "Parameter tuning break - need to look for more Parameters to tweak, as accuracy has peaked\n",
    "at around 0.34. precision still lingers at 0.25"
   ]
  },
  {
   "cell_type": "markdown",
   "metadata": {},
   "source": [
    "#new parameters added.\n",
    "\n",
    "prm_grid = dict(clf__criterion=[\"gini\"],\n",
    "                clf__max_features=[None],\n",
    "                clf__max_depth = [2,4,8,12,16,20],\n",
    "                clf__class_weight = [\"balanced\"],\n",
    "                clf__min_samples_split = [20,25,30,35],\n",
    "                clf__n_estimators = [1,2,3,4,6,],\n",
    "                clf__min_samples_leaf = [2,4,6,8,10],\n",
    "                clf__max_leaf_nodes = [None, 5, 10, 15, 20,],\n",
    "                clf__min_impurity_split = [0.1, 0.4,0.6,0.8]\n",
    "                ) "
   ]
  },
  {
   "cell_type": "code",
   "execution_count": null,
   "metadata": {
    "collapsed": true
   },
   "outputs": [],
   "source": [
    "with n_splits=10 done in  3059.2375742076165\n",
    "Best F1 Score:\n",
    "0.333732378732\n",
    "Best parameters:\n",
    "\tclf__class_weight: 'balanced'\n",
    "\tclf__criterion: 'gini'\n",
    "\tclf__max_depth: 2\n",
    "\tclf__max_features: None\n",
    "\tclf__max_leaf_nodes: None\n",
    "\tclf__min_impurity_split: 0.1\n",
    "\tclf__min_samples_leaf: 2\n",
    "\tclf__min_samples_split: 30\n",
    "\tclf__n_estimators: 4"
   ]
  },
  {
   "cell_type": "markdown",
   "metadata": {},
   "source": [
    "read some notes, decided to drop min samples leaf and min purity update."
   ]
  },
  {
   "cell_type": "markdown",
   "metadata": {},
   "source": [
    "prm_grid = dict(clf__criterion=[\"gini\"],\n",
    "                clf__max_features=[None, \"auto\", \"sqrt\", \"log2\"],\n",
    "                clf__max_depth = [2,4,8,12,16,20],\n",
    "                clf__min_samples_split = [2,6,10,20,30,40],\n",
    "                clf__n_estimators = [1,5,9,13,17],\n",
    "                clf__max_leaf_nodes = [None, 5, 10, 15, 20,],\n",
    "                clf__class_weight=[None, \"balanced\"]\n",
    "                ) "
   ]
  },
  {
   "cell_type": "code",
   "execution_count": 3,
   "metadata": {
    "collapsed": false
   },
   "outputs": [
    {
     "ename": "SyntaxError",
     "evalue": "invalid syntax (<ipython-input-3-77cade8f280f>, line 1)",
     "output_type": "error",
     "traceback": [
      "\u001b[0;36m  File \u001b[0;32m\"<ipython-input-3-77cade8f280f>\"\u001b[0;36m, line \u001b[0;32m1\u001b[0m\n\u001b[0;31m    with n_splits=10 done in  3485.8589006444\u001b[0m\n\u001b[0m                 ^\u001b[0m\n\u001b[0;31mSyntaxError\u001b[0m\u001b[0;31m:\u001b[0m invalid syntax\n"
     ]
    }
   ],
   "source": [
    "with n_splits=10 done in  3485.8589006444\n",
    "Best F1 Score:\n",
    "0.339348951702\n",
    "Best parameters:\n",
    "\tclf__class_weight: 'balanced'\n",
    "\tclf__criterion: 'gini'\n",
    "\tclf__max_depth: 2\n",
    "\tclf__max_features: None\n",
    "\tclf__max_leaf_nodes: 5\n",
    "\tclf__min_samples_split: 20\n",
    "\tclf__n_estimators: 5\n"
   ]
  },
  {
   "cell_type": "markdown",
   "metadata": {},
   "source": [
    "3AM start! lets do this"
   ]
  },
  {
   "cell_type": "code",
   "execution_count": null,
   "metadata": {
    "collapsed": true
   },
   "outputs": [],
   "source": []
  },
  {
   "cell_type": "markdown",
   "metadata": {
    "collapsed": true
   },
   "source": [
    "prm_grid = dict(SKB__k=[3,6,9],\n",
    "                clf__criterion=[\"gini\"],\n",
    "                clf__max_features=[None],\n",
    "                clf__max_depth = [1,2,3,4],\n",
    "                clf__min_samples_split = [15,20,25],\n",
    "                clf__n_estimators = [3,5,7],\n",
    "                clf__max_leaf_nodes = [3,5,7],\n",
    "                clf__class_weight=[\"balanced\"]\n",
    "                ) "
   ]
  },
  {
   "cell_type": "code",
   "execution_count": null,
   "metadata": {
    "collapsed": true
   },
   "outputs": [],
   "source": [
    "with n_splits=10 done in  97.70152016553696\n",
    "Best F1 Score:\n",
    "0.339348951702\n",
    "Best parameters:\n",
    "\tSKB__k: 6\n",
    "\tclf__class_weight: 'balanced'\n",
    "\tclf__criterion: 'gini'\n",
    "\tclf__max_depth: 2\n",
    "\tclf__max_features: None\n",
    "\tclf__max_leaf_nodes: 5\n",
    "\tclf__min_samples_split: 20\n",
    "\tclf__n_estimators: 5\n"
   ]
  },
  {
   "cell_type": "markdown",
   "metadata": {
    "collapsed": true
   },
   "source": [
    "prm_grid = dict(SKB__k=[5,6,7],\n",
    "                clf__criterion=[\"gini\"],\n",
    "                clf__max_features=[None],\n",
    "                clf__max_depth = [1,2,3,4],\n",
    "                clf__min_samples_split = [18,20,22],\n",
    "                clf__n_estimators = [4,5,6],\n",
    "                clf__max_leaf_nodes = [4,5,6],\n",
    "                clf__class_weight=[\"balanced\"]\n",
    "                ) "
   ]
  },
  {
   "cell_type": "code",
   "execution_count": null,
   "metadata": {
    "collapsed": true
   },
   "outputs": [],
   "source": [
    "with n_splits=10 done in  98.258636052557\n",
    "Best F1 Score:\n",
    "0.347180923652\n",
    "Best parameters:\n",
    "\tSKB__k: 6\n",
    "\tclf__class_weight: 'balanced'\n",
    "\tclf__criterion: 'gini'\n",
    "\tclf__max_depth: 1\n",
    "\tclf__max_features: None\n",
    "\tclf__max_leaf_nodes: 4\n",
    "\tclf__min_samples_split: 18\n",
    "\tclf__n_estimators: 4\n"
   ]
  },
  {
   "cell_type": "markdown",
   "metadata": {
    "collapsed": true
   },
   "source": [
    "prm_grid = dict(SKB__k=[6],\n",
    "                clf__criterion=[\"gini\"],\n",
    "                clf__max_features=[None],\n",
    "                clf__max_depth = [1,2,3],\n",
    "                clf__min_samples_split = [14,16,18,20],\n",
    "                clf__n_estimators = [2,3,4,5],\n",
    "                clf__max_leaf_nodes = [2,3,4,5],\n",
    "                clf__class_weight=[\"balanced\"]\n",
    "                ) "
   ]
  },
  {
   "cell_type": "code",
   "execution_count": null,
   "metadata": {
    "collapsed": true
   },
   "outputs": [],
   "source": [
    "with n_splits=10 done in  46.82319559624136\n",
    "Best F1 Score:\n",
    "0.351351294904\n",
    "Best parameters:\n",
    "\tSKB__k: 6\n",
    "\tclf__class_weight: 'balanced'\n",
    "\tclf__criterion: 'gini'\n",
    "\tclf__max_depth: 1\n",
    "\tclf__max_features: None\n",
    "\tclf__max_leaf_nodes: 3\n",
    "\tclf__min_samples_split: 14\n",
    "\tclf__n_estimators: 4"
   ]
  },
  {
   "cell_type": "markdown",
   "metadata": {
    "collapsed": true
   },
   "source": []
  },
  {
   "cell_type": "markdown",
   "metadata": {
    "collapsed": true
   },
   "source": [
    "prm_grid = dict(SKB__k=[6],\n",
    "                clf__criterion=[\"gini\"],\n",
    "                clf__max_features=[None],\n",
    "                clf__max_depth = [1,2,3],\n",
    "                clf__min_samples_split = [12,13,14,15],\n",
    "                clf__n_estimators = [3,4,5],\n",
    "                clf__max_leaf_nodes = [2,3,4],\n",
    "                clf__class_weight=[\"balanced\"]\n",
    "                ) "
   ]
  },
  {
   "cell_type": "code",
   "execution_count": null,
   "metadata": {
    "collapsed": true
   },
   "outputs": [],
   "source": [
    "with n_splits=10 done in  28.557707753481736\n",
    "Best F1 Score:\n",
    "0.351351294904\n",
    "Best parameters:\n",
    "\tSKB__k: 6\n",
    "\tclf__class_weight: 'balanced'\n",
    "\tclf__criterion: 'gini'\n",
    "\tclf__max_depth: 1\n",
    "\tclf__max_features: None\n",
    "\tclf__max_leaf_nodes: 3\n",
    "\tclf__min_samples_split: 14\n",
    "\tclf__n_estimators: 4\n"
   ]
  },
  {
   "cell_type": "code",
   "execution_count": null,
   "metadata": {
    "collapsed": true
   },
   "outputs": [],
   "source": [
    "Tester Classification Report\n",
    "Pipeline(steps=[('MMS', MinMaxScaler(copy=True, feature_range=(0, 1))), ('SKB', SelectKBest(k=6, score_func=<function f_classif at 0x000000000A3B0128>)), ('clf', RandomForestClassifier(bootstrap=True, class_weight='balanced',\n",
    "            criterion='gini', max_depth=1, max_features=None,\n",
    "            max_leaf_...estimators=4, n_jobs=1, oob_score=False, random_state=42,\n",
    "            verbose=0, warm_start=False))])\n",
    "\tAccuracy: 0.73627\tPrecision: 0.24611\tRecall: 0.47400\tF1: 0.32399\tF2: 0.39993\n",
    "\tTotal predictions: 15000\tTrue positives:  948\tFalse positives: 2904\tFalse negatives: 1052\tTrue negatives: 10096\n",
    "\n"
   ]
  },
  {
   "cell_type": "code",
   "execution_count": null,
   "metadata": {
    "collapsed": true
   },
   "outputs": [],
   "source": []
  }
 ],
 "metadata": {
  "kernelspec": {
   "display_name": "Python 2",
   "language": "python",
   "name": "python2"
  },
  "language_info": {
   "codemirror_mode": {
    "name": "ipython",
    "version": 2
   },
   "file_extension": ".py",
   "mimetype": "text/x-python",
   "name": "python",
   "nbconvert_exporter": "python",
   "pygments_lexer": "ipython2",
   "version": "2.7.13"
  }
 },
 "nbformat": 4,
 "nbformat_minor": 2
}
